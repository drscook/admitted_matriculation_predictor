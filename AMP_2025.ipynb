{
 "cells": [
  {
   "cell_type": "code",
   "execution_count": 0,
   "metadata": {
    "application/vnd.databricks.v1+cell": {
     "cellMetadata": {
      "byteLimit": 2048000,
      "rowLimit": 10000
     },
     "inputWidgets": {},
     "nuid": "14d0710a-15ef-415f-95b1-b0cb2c4e9b74",
     "showTitle": false,
     "tableResultSettingsMap": {},
     "title": ""
    }
   },
   "outputs": [],
   "source": [
    "try:\n",
    "    %reload_ext autotime\n",
    "except:\n",
    "    %pip install -U ipython-autotime ipywidgets codetiming openpyxl\n",
    "    import IPython\n",
    "    IPython.display.clear_output()\n",
    "%reload_ext autotime\n",
    "import pathlib, shutil, warnings, dataclasses, numpy as np, pandas as pd\n",
    "from codetiming import Timer\n",
    "seed = 42\n",
    "catalog = 'dev.bronze.saturn'\n",
    "root = pathlib.Path('/Workspace/Users/scook@tarleton.edu/admitted_matriculation_predictor_2025/')\n",
    "\n",
    "##########################################\n",
    "############ helper functions ############\n",
    "##########################################\n",
    "pd.options.display.max_columns = None\n",
    "def disp(df, rows=4, head=True):\n",
    "    with pd.option_context('display.min_rows', rows, 'display.max_rows', rows):\n",
    "        display(df.head(rows) if head else df.tails(rows))\n",
    "\n",
    "def to_numeric(df, downcast='integer', errors='ignore', **kwargs):\n",
    "    \"\"\"convert to numeric dtypes if possible\"\"\"\n",
    "    return (\n",
    "        df\n",
    "        .apply(lambda s: s.astype('string').str.lower().str.strip() if s.dtype in ['object','string'] else s)  # prep strings\n",
    "        .apply(lambda s: s if pd.api.types.is_datetime64_any_dtype(s) else pd.to_numeric(s, downcast=downcast, errors=errors, **kwargs))  # convert to numeric if possible\n",
    "        .convert_dtypes()  # convert to new nullable dtypes\n",
    "    )\n",
    "\n",
    "def prep(df, **kwargs):\n",
    "    h = lambda x: x.to_numeric(**kwargs).rename(columns=lambda s: s.lower().strip().replace(' ','_').replace('-','_') if isinstance(s, str) else s)\n",
    "    idx = h(df[[]].reset_index())  # drop columns, reset_index to move index to columns, then apply g\n",
    "    return h(df).reset_index(drop=True).set_index(pd.MultiIndex.from_frame(idx))  # set idx back to df's index\n",
    "\n",
    "def wrap(fcn):\n",
    "    \"\"\"Make new methods work for Series and DataFrames\"\"\"\n",
    "    def wrapper(S, *args, **kwargs):\n",
    "        df = fcn(pd.DataFrame(S), *args, **kwargs)\n",
    "        return None if df is None else df.squeeze() if isinstance(S, pd.Series) else df  # squeeze to series if input was series\n",
    "    return wrapper\n",
    "\n",
    "for f in [disp, to_numeric, prep]:\n",
    "    \"\"\"monkey-patch my helpers into Pandas Series & DataFrame classees so we can use df.method syntax\"\"\"\n",
    "    setattr(pd.DataFrame, f.__name__, f)\n",
    "    setattr(pd.Series, f.__name__, wrap(f))\n",
    "\n",
    "def run(qry):\n",
    "    return spark.sql(qry).toPandas().prep()\n",
    "\n",
    "# annoying warnings to suppress\n",
    "[warnings.filterwarnings(action='ignore', message=f\".*{w}.*\") for w in [\n",
    "    \"Could not infer format, so each element will be parsed individually, falling back to `dateutil`\",\n",
    "    \"Engine has switched to 'python' because numexpr does not support extension array dtypes\",\n",
    "    \"The default of observed=False is deprecated and will be changed to True in a future version of pandas\",\n",
    "    \"errors='ignore' is deprecated and will raise in a future version\",\n",
    "    \"The behavior of DataFrame concatenation with empty or all-NA entries is deprecated\",\n",
    "    \"The behavior of array concatenation with empty entries is deprecated\",\n",
    "    \"DataFrame is highly fragmented\",\n",
    "]]\n",
    "\n",
    "#######################################################\n",
    "############ process flags reports archive ############\n",
    "#######################################################\n",
    "@Timer()\n",
    "def process_flags(overwrite=False):\n",
    "    # Get id-pidm crosswalk so we can replace id by pidm in flags below\n",
    "    source = pathlib.Path('/Volumes/aiml/scook/scook_files/admitted_flags_raw')\n",
    "    target = root / 'flags'\n",
    "    if overwrite:\n",
    "        shutil.rmtree(target, ignore_errors=True) # if you want a fresh restart\n",
    "    spriden = None\n",
    "    counter = 0\n",
    "    for src in sorted(source.iterdir(), reverse=True):\n",
    "        counter += 1\n",
    "        if counter > 5:\n",
    "            break\n",
    "        a,b = src.name.lower().split('.')\n",
    "        if b != 'xlsx' or 'melt' in a or 'admitted' not in a:\n",
    "            print(a, 'SKIP')\n",
    "            continue\n",
    "        # Handles 2 naming conventions that were used at different times\n",
    "        try:\n",
    "            dt = pd.to_datetime(a[:10].replace('_','-'))\n",
    "            multi = True\n",
    "        except:\n",
    "            try:\n",
    "                dt = pd.to_datetime(a[-6:])\n",
    "                multi = False\n",
    "            except:\n",
    "                print(a, 'FAIL')\n",
    "                continue\n",
    "        print(a, dt.date())\n",
    "        book = pd.ExcelFile(src, engine='openpyxl')\n",
    "        # Again, handles the 2 different versions with different sheet names\n",
    "        if multi:\n",
    "            sheets = {sheet:sheet for sheet in book.sheet_names if sheet.isnumeric() and int(sheet) % 100 in [1,6,8]}\n",
    "        else:\n",
    "            sheets = {a[:6]: book.sheet_names[0]}\n",
    "        for term_code, sheet in sheets.items():\n",
    "            trg = target / f'{term_code}/flg_{term_code}_{dt.date()}.parquet'  # target parquet file\n",
    "            if not trg.exists():\n",
    "                counter = 0\n",
    "                if spriden is None:\n",
    "                    qry = f\"\"\"\n",
    "                    select distinct\n",
    "                        spriden_id as id,\n",
    "                        spriden_pidm as pidm\n",
    "                    from\n",
    "                        {catalog}spriden\n",
    "                    where\n",
    "                        spriden_change_ind is null\n",
    "                        and spriden_activity_date between '2000-09-01' and '2025-09-01'\n",
    "                        and spriden_id REGEXP '^[0-9]+'\n",
    "                    \"\"\"\n",
    "                    spriden = spark.sql(qry).toPandas().prep()\n",
    "\n",
    "                print(trg)\n",
    "                trg.parent.mkdir(parents=True, exist_ok=True)\n",
    "                df = (\n",
    "                    spriden\n",
    "                    .assign(current_date=dt)\n",
    "                    .merge(book.parse(sheet).prep(), on='id', how='right')\n",
    "                    .drop(columns=['id','last_name','first_name','mi','pref_fname','street1','street2','primary_phone','call_em_all','email'], errors='ignore')\n",
    "                )\n",
    "                df.to_parquet(trg)\n",
    "                mask = df['pidm'].isnull()\n",
    "                if mask.any():\n",
    "                    df[mask].disp()\n",
    "\n",
    "# process_flags()"
   ]
  },
  {
   "cell_type": "code",
   "execution_count": 0,
   "metadata": {
    "application/vnd.databricks.v1+cell": {
     "cellMetadata": {
      "byteLimit": 2048000,
      "rowLimit": 10000
     },
     "inputWidgets": {},
     "nuid": "202eea88-8198-4285-a0ba-f7672c0d6940",
     "showTitle": false,
     "tableResultSettingsMap": {},
     "title": ""
    }
   },
   "outputs": [],
   "source": [
    "#######################################################\n",
    "############ process flags reports archive ############\n",
    "#######################################################\n",
    "@dataclasses.dataclass\n",
    "class MyBaseClass():\n",
    "    \"\"\"Lets us access object attributes using self.attr or self['attr']\"\"\"\n",
    "    def __contains__(self, key):\n",
    "        return hasattr(self, key)\n",
    "    def __getitem__(self, key):\n",
    "        return getattr(self, key)\n",
    "    def __setitem__(self, key, val):\n",
    "        setattr(self, key, val)\n",
    "    def __delitem__(self, key):\n",
    "        if key in self:\n",
    "            delattr(self, key)\n",
    "\n",
    "    def get(self, fcn, nm, overwrite=False, path=''):\n",
    "        parq = root / f'path/{nm}.parquet'\n",
    "        if overwrite:\n",
    "            del self[nm]\n",
    "            parq.unlink(missing_ok=True)\n",
    "        if nm in self:\n",
    "            print('exists')\n",
    "        elif parq.exists():\n",
    "            print('parq')\n",
    "            self[nm] = pd.read_parquet(parq)\n",
    "        else:\n",
    "            print(f'creating {parq.name}')\n",
    "            with Timer():\n",
    "                parq.parent.mkdir(parents=True, exist_ok=True)\n",
    "                self[nm] = fcn().prep()\n",
    "                self[nm].to_parquet(parq)\n",
    "        return self[nm]\n",
    "\n",
    "@dataclasses.dataclass\n",
    "class Terms(MyBaseClass):\n",
    "    term_code: int = 202408\n",
    "    cycle_day: int = None\n",
    "    cycle_date: pd.Timestamp = None\n",
    "    tz: str = 'America/Chicago'\n",
    "\n",
    "    def __post_init__(self):\n",
    "        self.get_terms()\n",
    "        self.stable_date = self.terms.loc[self.term_code,'stable_date']\n",
    "        if self.cycle_day is None:\n",
    "            if self.cycle_date is None:\n",
    "                self.cycle_date = pd.Timestamp.now()\n",
    "            self.cycle_date = pd.to_datetime(self.cycle_date).normalize()\n",
    "            self.cycle_day = (self.stable_date - self.cycle_date).days\n",
    "        self.cycle_date = self.stable_date - pd.Timedelta(days=self.cycle_day)\n",
    "\n",
    "\n",
    "    def get_terms(self, overwrite=False):\n",
    "        def fcn():\n",
    "            qry = f\"\"\"\n",
    "            select\n",
    "                A.stvterm_code as term_code,\n",
    "                replace(A.stvterm_desc, ' ', '') as term_desc,\n",
    "                A.stvterm_start_date as start_date,\n",
    "                A.stvterm_end_date as end_date,\n",
    "                A.stvterm_fa_proc_yr as fa_proc_yr,\n",
    "                A.stvterm_housing_start_date as housing_start_date,\n",
    "                A.stvterm_housing_end_date as housing_end_date,\n",
    "                B.sobptrm_census_date as census_date\n",
    "            from {catalog}stvterm A, {catalog}sobptrm B\n",
    "            where A.stvterm_code = B.sobptrm_term_code and B.sobptrm_ptrm_code='1'\"\"\"\n",
    "            df = run(qry).set_index('term_code')\n",
    "            df['stable_date'] = df['census_date'].apply(lambda x: x+pd.Timedelta(days=7+4-x.weekday()))\n",
    "            return df\n",
    "        return self.get(fcn, 'terms', overwrite)\n",
    "    \n",
    "    # def get_\n",
    "\n",
    "self = Terms(term_code=202508\n",
    "             , cycle_day=1\n",
    "            #  , cycle_date='2025-09-11'\n",
    "            )\n",
    "# self.get_terms(True)\n",
    "# self = Terms()\n",
    "# self.get_terms()\n",
    "# self.get_terms()\n",
    "self.cycle_date, self.stable_date, self.cycle_day, self.stable_date - pd.Timedelta(days=self.cycle_day)"
   ]
  },
  {
   "cell_type": "code",
   "execution_count": 0,
   "metadata": {
    "application/vnd.databricks.v1+cell": {
     "cellMetadata": {
      "byteLimit": 2048000,
      "rowLimit": 10000
     },
     "inputWidgets": {},
     "nuid": "0b85116f-bd05-43e8-a31e-596f715ce6f8",
     "showTitle": false,
     "tableResultSettingsMap": {},
     "title": ""
    }
   },
   "outputs": [],
   "source": [
    "self.cycle_date = pd.Timestamp.now()\n",
    "# print(self.cycle_date)\n",
    "# self.cycle_date = '2025-09-11'\n",
    "self.cycle_date = pd.to_datetime(self.cycle_date).normalize()\n",
    "print(self.cycle_date)\n"
   ]
  },
  {
   "cell_type": "code",
   "execution_count": 0,
   "metadata": {
    "application/vnd.databricks.v1+cell": {
     "cellMetadata": {
      "byteLimit": 2048000,
      "rowLimit": 10000
     },
     "inputWidgets": {},
     "nuid": "243f4d0e-bdb5-4879-a37f-429bbef0d3ef",
     "showTitle": false,
     "tableResultSettingsMap": {},
     "title": ""
    }
   },
   "outputs": [],
   "source": [
    "self.cycle_date = pd.Timestamp.now()\n",
    "print(self.cycle_date)\n",
    "self.cycle_date = pd.to_datetime(self.cycle_date).tz_localize(self.tz)#, utc=self.tz)\n",
    "print(self.cycle_date)\n"
   ]
  },
  {
   "cell_type": "code",
   "execution_count": 0,
   "metadata": {
    "application/vnd.databricks.v1+cell": {
     "cellMetadata": {
      "byteLimit": 2048000,
      "rowLimit": 10000
     },
     "inputWidgets": {},
     "nuid": "cdb06f8d-8f5b-45c0-ad06-d95245644273",
     "showTitle": false,
     "tableResultSettingsMap": {},
     "title": ""
    }
   },
   "outputs": [],
   "source": [
    "x = '2025-09-11'\n",
    "x = pd.to_datetime?"
   ]
  },
  {
   "cell_type": "code",
   "execution_count": 0,
   "metadata": {
    "application/vnd.databricks.v1+cell": {
     "cellMetadata": {
      "byteLimit": 2048000,
      "rowLimit": 10000
     },
     "inputWidgets": {},
     "nuid": "bf362497-72e0-48e0-98ef-27fd9313cab0",
     "showTitle": false,
     "tableResultSettingsMap": {},
     "title": ""
    }
   },
   "outputs": [],
   "source": [
    "self.stable_date - pd.DateOffset(days=self.cycle_day)"
   ]
  },
  {
   "cell_type": "code",
   "execution_count": 0,
   "metadata": {
    "application/vnd.databricks.v1+cell": {
     "cellMetadata": {
      "byteLimit": 2048000,
      "rowLimit": 10000
     },
     "inputWidgets": {},
     "nuid": "dffda6c8-c5bc-42e5-833f-8dfdf7900dca",
     "showTitle": false,
     "tableResultSettingsMap": {},
     "title": ""
    }
   },
   "outputs": [],
   "source": [
    "self.stable_date - pd.DateOffset(days=self.cycle_day)\n",
    "# - pd.Timedelta(days=self.cycle_day)\n",
    "# pd.Timedelta(days=self.cycle_day)"
   ]
  },
  {
   "cell_type": "code",
   "execution_count": 0,
   "metadata": {
    "application/vnd.databricks.v1+cell": {
     "cellMetadata": {
      "byteLimit": 2048000,
      "rowLimit": 10000
     },
     "inputWidgets": {},
     "nuid": "7f9f7741-39fd-411c-9767-007c8c0c755a",
     "showTitle": false,
     "tableResultSettingsMap": {},
     "title": ""
    }
   },
   "outputs": [],
   "source": [
    "x = pd.Timestamp.now(self.tz) - pd.DateOffset(days=1)\n",
    "x"
   ]
  },
  {
   "cell_type": "code",
   "execution_count": 0,
   "metadata": {
    "application/vnd.databricks.v1+cell": {
     "cellMetadata": {
      "byteLimit": 2048000,
      "rowLimit": 10000
     },
     "inputWidgets": {},
     "nuid": "91492af2-a3e1-43e9-b45e-f49cf72d5847",
     "showTitle": false,
     "tableResultSettingsMap": {},
     "title": ""
    }
   },
   "outputs": [],
   "source": [
    "x = pd.Timestamp.now(self.tz)\n",
    "x = self.stable_date - pd.DateOffset(days=1)\n",
    "x\n",
    "(self.stable_date - x).days"
   ]
  },
  {
   "cell_type": "code",
   "execution_count": 0,
   "metadata": {
    "application/vnd.databricks.v1+cell": {
     "cellMetadata": {
      "byteLimit": 2048000,
      "rowLimit": 10000
     },
     "inputWidgets": {},
     "nuid": "1f3b1510-c99e-4b5b-82f9-6624cc58d3d1",
     "showTitle": false,
     "tableResultSettingsMap": {},
     "title": ""
    }
   },
   "outputs": [],
   "source": [
    "self.stable_date, self.cycle_day, self.cycle_date"
   ]
  },
  {
   "cell_type": "code",
   "execution_count": 0,
   "metadata": {
    "application/vnd.databricks.v1+cell": {
     "cellMetadata": {
      "byteLimit": 2048000,
      "rowLimit": 10000
     },
     "inputWidgets": {},
     "nuid": "32006298-39d0-4956-b250-78aeaca15e0d",
     "showTitle": false,
     "tableResultSettingsMap": {},
     "title": ""
    }
   },
   "outputs": [],
   "source": [
    "(self.stable_date.tz_localize('America/Chicago') - pd.Timestamp.now('America/Chicago')).days"
   ]
  },
  {
   "cell_type": "code",
   "execution_count": 0,
   "metadata": {
    "application/vnd.databricks.v1+cell": {
     "cellMetadata": {
      "byteLimit": 2048000,
      "rowLimit": 10000
     },
     "inputWidgets": {},
     "nuid": "7488a0fd-7258-44f1-bde1-c4b3903dcc3f",
     "showTitle": false,
     "tableResultSettingsMap": {},
     "title": ""
    }
   },
   "outputs": [],
   "source": [
    "self.terms.loc[202408]#,'end_date']"
   ]
  }
 ],
 "metadata": {
  "application/vnd.databricks.v1+notebook": {
   "computePreferences": null,
   "dashboards": [],
   "environmentMetadata": {
    "base_environment": "",
    "environment_version": "2"
   },
   "language": "python",
   "notebookMetadata": {
    "pythonIndentUnit": 4
   },
   "notebookName": "AMP_2025",
   "widgets": {}
  },
  "language_info": {
   "name": "python"
  }
 },
 "nbformat": 4,
 "nbformat_minor": 0
}
