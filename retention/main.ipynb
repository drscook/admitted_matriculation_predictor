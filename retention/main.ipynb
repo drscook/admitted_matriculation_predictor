{
 "cells": [
  {
   "cell_type": "code",
   "execution_count": 0,
   "metadata": {
    "application/vnd.databricks.v1+cell": {
     "cellMetadata": {
      "byteLimit": 2048000,
      "rowLimit": 10000
     },
     "inputWidgets": {},
     "nuid": "059c04fb-0d2a-4c11-88e1-2e15ea88010b",
     "showTitle": false,
     "tableResultSettingsMap": {},
     "title": ""
    }
   },
   "outputs": [],
   "source": [
    "%reload_ext autotime\n",
    "FORECAST_TERM_CODE = 202508\n",
    "LAG = 1\n",
    "exec(open('./amp.py').read())\n",
    "from sklearn.metrics import RocCurveDisplay\n",
    "from sklearn.calibration import CalibrationDisplay\n",
    "\n",
    "aggregates = union(\n",
    "    'styp_desc','camp_desc',\n",
    "    # 'coll_desc','dept_desc','majr_desc','hs_qrtl','tsi_math','tsi_reading','tsi_writing','resd_desc','oriented','waiver','lgcy',\n",
    "    # 'gender',races,'international',\n",
    ")\n",
    "\n",
    "features = {'act_equiv':pd.NA,'age':pd.NA,'camp_desc':'stephenville','drivetime':pd.NA,'eager':pd.NA,'fafsa': False,'finaid': False,'gap_score':0,'gender':pd.NA,'hs_qrtl':pd.NA,'international':False,'lgcy':False,'oriented':False,**{r: False for r in races},'schlship':False,'ssb':False,'styp_desc':'new first time','_tot_sch':0,'tsi_math':False,'tsi_reading':False,'tsi_writing':False,'verified':False,'waiver':False}\n",
    "\n",
    "crse_codes = union('_headcnt','_proba',\n",
    "    'agec2317','ansc1119','ansc1319','anth2302','anth2351','arts1301','arts1303','arts1304','arts3331','biol1305','biol1406','biol1407','biol2401','biol2402','busi1301','busi1307','chem1111','chem1112','chem1302','chem1311','chem1312','chem1407','chem1409','cnst1301','comm1311','comm1315','comm2302','crij1301','dram1310','dram2361','easc2310','econ1301','econ2301','educ1301','engl1301','engl1302','engl2307','engl2320','engl2321','engl2326','engl2340','engl2350','engl2360','engl2362','engl2364','engl2366','engl2368','engr1211','engr2303','envs1302','fina1360','geog1303','geog1320','geog1451','geog2301','geol1403','geol1404','geol1407','geol1408','govt2305','govt2306','hist1301','hist1302','hist2321','hist2322','huma1315','kine1301','kine1338','kine2315','math1314','math1316','math1324','math1325','math1332','math1342','math1352','math2412','math2413','musi1303','musi1310','musi1311','musi2350','musi3325','phil1301','phil1304','phil2303','phil3301','phys1302','phys1401','phys1402','phys1403','phys1411','phys2425','phys2426','psyc2301','psyc3303','psyc3307','soci1301','soci1306','soci2303','univ0010','univ0200','univ0204','univ0301','univ0314','univ0324','univ0332','univ0342',)\n",
    "\n",
    "REFRESHED = []\n",
    "REFRESH = union(\n",
    "    # 'flags',\n",
    "    # 'admissions',\n",
    "    # 'registrations',\n",
    "    # 'students',\n",
    "    # 'enrollments',\n",
    "    # 'imputed',\n",
    "    # 'learners',\n",
    "    # 'predictions',\n",
    "    # 'studentsall',\n",
    "    # 'enrollmentsall',\n",
    "    # 'predictionsall',\n",
    "    # 'proba',\n",
    "    # 'forecasts',\n",
    ")\n",
    "\n",
    "kwargs = dict(features=features, aggregates=aggregates, crse_codes=crse_codes, subpops='styp_desc', start=2022,\n",
    "    # date='2025-10-30',\n",
    "    flaml=dict(\n",
    "        time_budget=60,\n",
    "    ),)\n",
    "if LAG > 0: #retention\n",
    "    kwargs |= dict(crse_codes='_proba', aggregates=[])\n",
    "kwargs |= dict(crse_codes=['_headcnt','_proba'], aggregates='camp_desc')  #quick for testing\n",
    "self = AMP(**kwargs)\n",
    "# self.get_flagsday(); # GA's should not have permissions to run this because it sees pii\n",
    "self.get_proba();\n",
    "# self.get_reports();   # may hit memory limits running get_flagsyear - just restart kernel and try again"
   ]
  },
  {
   "cell_type": "code",
   "execution_count": 0,
   "metadata": {
    "application/vnd.databricks.v1+cell": {
     "cellMetadata": {
      "byteLimit": 2048000,
      "rowLimit": 10000
     },
     "inputWidgets": {},
     "nuid": "85317186-525a-4ade-be4c-f36039e5ab15",
     "showTitle": false,
     "tableResultSettingsMap": {},
     "title": ""
    }
   },
   "outputs": [],
   "source": [
    "def run_viz():\n",
    "    A = self.get_proba().query(f'cohort_term != @self.term_desc & _tot_sch > 0').sort_values(['cohort_term', 'model_term','prediction'])\n",
    "    sns.displot(data=A, x='prediction', hue='actual', kind='kde', row='cohort_term', col='model_term', common_norm=False)\n",
    "    plt.show()\n",
    "\n",
    "    G = A.groupby('cohort_term')\n",
    "    nrows, ncols, length = G.ngroups, 2, 5\n",
    "    fig, axes = plt.subplots(ncols=ncols, nrows=nrows, figsize=(ncols*length, nrows*length))\n",
    "    for i, (cohort_term, B) in enumerate(G):\n",
    "        def fmt(nm):\n",
    "            # ax.plot([0, 1], [0, 1], 'k--')\n",
    "            ax.set_title(f'{cohort_term.title()} Cohort {nm}')\n",
    "            ax.legend()\n",
    "\n",
    "        for model_term, C in B.groupby('model_term'):\n",
    "            label = model_term+' model'\n",
    "            ax = axes[i,0]\n",
    "            RocCurveDisplay.from_predictions(C['actual'], C['prediction'], ax=ax, name=label)\n",
    "            ax.plot([0, 1], [0, 1], 'k--')\n",
    "            fmt('ROC')\n",
    "            \n",
    "            ax = axes[i,1]\n",
    "            C['y'] = C['actual'].rolling(window=100, center=True).mean()\n",
    "            # x, y = C[['prediction', 'y']].sample(frac=0.1).values.T\n",
    "            x, y = C[['prediction', 'y']].values[::10].T\n",
    "            ax.plot(x, y, label=label, linestyle='', marker='.', markersize=4)\n",
    "            ax.plot([x.min(), x.max()], [x.min(), x.max()], 'k-')\n",
    "            ax.set_xlabel('Probability')\n",
    "            ax.set_ylabel('Proportion')\n",
    "            fmt('Calibration')\n",
    "\n",
    "            # ax = axes[i,2]\n",
    "            # CalibrationDisplay.from_predictions(C['actual'], C['prediction'], ax=ax, name=label, n_bins=100)#, strategy='quantile')\n",
    "            # fmt('Calibration')\n",
    "\n",
    "    fig.suptitle(f'{LAG} term retention'.title())\n",
    "    plt.tight_layout()\n",
    "    plt.show()\n",
    "run_viz()"
   ]
  },
  {
   "cell_type": "code",
   "execution_count": 0,
   "metadata": {
    "application/vnd.databricks.v1+cell": {
     "cellMetadata": {},
     "inputWidgets": {},
     "nuid": "e54be8d5-899d-4d19-92a5-81726a9e8263",
     "showTitle": false,
     "tableResultSettingsMap": {},
     "title": ""
    }
   },
   "outputs": [],
   "source": [
    "ipython-autotime==0.3.2\n",
    "codetiming==1.4.0\n",
    "openpyxl==3.1.5\n",
    "numpy==1.26.4\n",
    "pandas==2.3.1\n",
    "geopandas==1.1.1\n",
    "pgeocode==0.5.0\n",
    "scikit-learn==1.7.0\n",
    "miceforest==6.0.3\n",
    "flaml[automl]==2.3.5"
   ]
  }
 ],
 "metadata": {
  "application/vnd.databricks.v1+notebook": {
   "computePreferences": {
    "hardware": {
     "accelerator": null,
     "gpuPoolId": null,
     "memory": null
    }
   },
   "dashboards": [],
   "environmentMetadata": {
    "base_environment": "",
    "dependencies": [
     "geopandas",
     "ipython-autotime",
     "codetiming",
     "openpyxl",
     "pgeocode",
     "miceforest",
     "flaml[automl]"
    ],
    "environment_version": "4"
   },
   "inputWidgetPreferences": null,
   "language": "python",
   "notebookMetadata": {
    "mostRecentlyExecutedCommandWithImplicitDF": {
     "commandId": 5267979755454599,
     "dataframes": [
      "_sqldf"
     ]
    },
    "pythonIndentUnit": 4
   },
   "notebookName": "main",
   "widgets": {}
  },
  "language_info": {
   "name": "python"
  }
 },
 "nbformat": 4,
 "nbformat_minor": 0
}
