{
 "cells": [
  {
   "cell_type": "code",
   "execution_count": 0,
   "metadata": {
    "application/vnd.databricks.v1+cell": {
     "cellMetadata": {
      "byteLimit": 2048000,
      "rowLimit": 10000
     },
     "inputWidgets": {},
     "nuid": "059c04fb-0d2a-4c11-88e1-2e15ea88010b",
     "showTitle": false,
     "tableResultSettingsMap": {},
     "title": ""
    }
   },
   "outputs": [],
   "source": [
    "%reload_ext autotime\n",
    "FORECAST_TERM_CODE = 202508\n",
    "LAG = 0\n",
    "exec(open('./amp.py').read())\n",
    "\n",
    "aggregates = [\n",
    "    'styp_desc',\n",
    "    'camp_desc',\n",
    "    'coll_desc',\n",
    "    'dept_desc',\n",
    "    'majr_desc',\n",
    "    'hs_qrtl',\n",
    "    'tsi_math',\n",
    "    'tsi_reading',\n",
    "    'tsi_writing',\n",
    "    # 'gender',\n",
    "    # *races,\n",
    "    # 'international',\n",
    "    'resd_desc',\n",
    "    'oriented',\n",
    "    'waiver',\n",
    "    'lgcy',\n",
    "]\n",
    "\n",
    "features = {\n",
    "    'act_equiv':pd.NA,\n",
    "    'age':pd.NA,\n",
    "    'camp_desc':'stephenville',\n",
    "    'drivetime':pd.NA,\n",
    "    'eager':pd.NA,\n",
    "    'fafsa': False,\n",
    "    'finaid': False,\n",
    "    'gap_score':0,\n",
    "    'gender':pd.NA,\n",
    "    'hs_qrtl':pd.NA,\n",
    "    'international':False,\n",
    "    'lgcy':False,\n",
    "    'oriented':False,\n",
    "    **{r: False for r in races},\n",
    "    'schlship':False,\n",
    "    'ssb':False,\n",
    "    'tsi_math':False,\n",
    "    'tsi_reading':False,\n",
    "    'tsi_writing':False,\n",
    "    'verified':False,\n",
    "    'waiver':False,\n",
    "}\n",
    "\n",
    "crse_codes = [\n",
    "    '_headcnt',\n",
    "    '_proba',\n",
    "    'agec2317','ansc1119','ansc1319','anth2302','anth2351','arts1301','arts1303','arts1304','arts3331',\n",
    "    'biol1305','biol1406','biol1407','biol2401','biol2402','busi1301','busi1307','chem1111','chem1112',\n",
    "    'chem1302','chem1311','chem1312','chem1407','chem1409','cnst1301','comm1311','comm1315','comm2302',\n",
    "    'crij1301','dram1310','dram2361','easc2310','econ1301','econ2301','educ1301','engl1301','engl1302',\n",
    "    'engl2307','engl2320','engl2321','engl2326','engl2340','engl2350','engl2360','engl2362','engl2364',\n",
    "    'engl2366','engl2368','engr1211','engr2303','envs1302','fina1360','geog1303','geog1320','geog1451',\n",
    "    'geog2301','geol1403','geol1404','geol1407','geol1408','govt2305','govt2306','hist1301','hist1302',\n",
    "    'hist2321','hist2322','huma1315','kine1301','kine1338','kine2315','math1314','math1316','math1324',\n",
    "    'math1325','math1332','math1342','math1352','math2412','math2413','musi1303','musi1310','musi1311',\n",
    "    'musi2350','musi3325','phil1301','phil1304','phil2303','phil3301','phys1302','phys1401','phys1402',\n",
    "    'phys1403','phys1411','phys2425','phys2426','psyc2301','psyc3303','psyc3307','soci1301','soci1306',\n",
    "    'soci2303','univ0010','univ0200','univ0204','univ0301','univ0314','univ0324','univ0332','univ0342',\n",
    "]\n",
    "\n",
    "REFRESHED = []\n",
    "REFRESH = [\n",
    "    # 'flags',\n",
    "    # 'admissions',\n",
    "    # 'registrations',\n",
    "    # 'students',\n",
    "    # 'imputed',\n",
    "    # 'learners',\n",
    "    # 'predictions',\n",
    "    # 'enrollments',\n",
    "    # 'enrollmentsall',\n",
    "    # 'studentsall',\n",
    "    # 'predictionsall',\n",
    "    # 'proba',\n",
    "    # 'forecasts',\n",
    "]\n",
    "\n",
    "kwargs = {'features': features, 'aggregates':aggregates, 'crse_codes':crse_codes, 'start':2022,\n",
    "    # 'date': '2025-08-13',\n",
    "    'flaml':{\n",
    "        'time_budget': 60,\n",
    "    }}\n",
    "# kwargs |= {'crse_codes':['_headcnt','_probb'], 'aggregates':['camp_desc']}  #quick for testing\n",
    "if LAG == 1:\n",
    "    kwargs |= {'crse_codes':'_proba', 'aggregates':[]}  #retention\n",
    "self = AMP(**kwargs)\n",
    "# self.get_flagsday() # GA's should not have permissions to run this because it sees pii\n",
    "self.get_proba()\n",
    "self.get_forecasts()\n",
    "# self.get_reports()   # may hit memory limits running get_flagsyear - just restart kernel and try again"
   ]
  }
 ],
 "metadata": {
  "application/vnd.databricks.v1+notebook": {
   "computePreferences": {
    "hardware": {
     "accelerator": null,
     "gpuPoolId": null,
     "memory": null
    }
   },
   "dashboards": [],
   "environmentMetadata": {
    "base_environment": "",
    "dependencies": [
     "ipython-autotime==0.3.2",
     "codetiming==1.4.0",
     "openpyxl==3.1.5",
     "numpy==1.26.4",
     "pandas==2.3.1",
     "geopandas==1.1.1",
     "pgeocode==0.5.0",
     "scikit-learn==1.7.0",
     "miceforest==6.0.3",
     "flaml[automl]==2.3.5"
    ],
    "environment_version": "2"
   },
   "inputWidgetPreferences": null,
   "language": "python",
   "notebookMetadata": {
    "mostRecentlyExecutedCommandWithImplicitDF": {
     "commandId": 5267979755454599,
     "dataframes": [
      "_sqldf"
     ]
    },
    "pythonIndentUnit": 4
   },
   "notebookName": "main",
   "widgets": {}
  },
  "language_info": {
   "name": "python"
  }
 },
 "nbformat": 4,
 "nbformat_minor": 0
}
