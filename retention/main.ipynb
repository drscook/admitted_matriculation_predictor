{
 "cells": [
  {
   "cell_type": "code",
   "execution_count": 0,
   "metadata": {
    "application/vnd.databricks.v1+cell": {
     "cellMetadata": {
      "byteLimit": 2048000,
      "rowLimit": 10000
     },
     "inputWidgets": {},
     "nuid": "059c04fb-0d2a-4c11-88e1-2e15ea88010b",
     "showTitle": false,
     "tableResultSettingsMap": {},
     "title": ""
    }
   },
   "outputs": [],
   "source": [
    "%reload_ext autotime\n",
    "FORECAST_TERM_CODE = 202508\n",
    "LAG = 1\n",
    "exec(open('./amp.py').read())\n",
    "from sklearn.metrics import RocCurveDisplay\n",
    "from sklearn.calibration import CalibrationDisplay\n",
    "\n",
    "aggregates = union(\n",
    "    'styp_desc','camp_desc',\n",
    "    # 'coll_desc','dept_desc','majr_desc','hs_qrtl','tsi_math','tsi_reading','tsi_writing','resd_desc','oriented','waiver','lgcy',\n",
    "    # 'gender',races,'international',\n",
    ")\n",
    "\n",
    "features = {'act_equiv':pd.NA,'age':pd.NA,'camp_desc':'stephenville','drivetime':pd.NA,'eager':pd.NA,'fafsa': False,'finaid': False,'gap_score':0,'gender':pd.NA,'hs_qrtl':pd.NA,'international':False,'lgcy':False,'oriented':False,**{r: False for r in races},'schlship':False,'ssb':False,'styp_desc':'new first time','_tot_sch':0,'tsi_math':False,'tsi_reading':False,'tsi_writing':False,'verified':False,'waiver':False}\n",
    "\n",
    "crse_codes = union('_headcnt','_proba',\n",
    "    'agec2317','ansc1119','ansc1319','anth2302','anth2351','arts1301','arts1303','arts1304','arts3331','biol1305','biol1406','biol1407','biol2401','biol2402','busi1301','busi1307','chem1111','chem1112','chem1302','chem1311','chem1312','chem1407','chem1409','cnst1301','comm1311','comm1315','comm2302','crij1301','dram1310','dram2361','easc2310','econ1301','econ2301','educ1301','engl1301','engl1302','engl2307','engl2320','engl2321','engl2326','engl2340','engl2350','engl2360','engl2362','engl2364','engl2366','engl2368','engr1211','engr2303','envs1302','fina1360','geog1303','geog1320','geog1451','geog2301','geol1403','geol1404','geol1407','geol1408','govt2305','govt2306','hist1301','hist1302','hist2321','hist2322','huma1315','kine1301','kine1338','kine2315','math1314','math1316','math1324','math1325','math1332','math1342','math1352','math2412','math2413','musi1303','musi1310','musi1311','musi2350','musi3325','phil1301','phil1304','phil2303','phil3301','phys1302','phys1401','phys1402','phys1403','phys1411','phys2425','phys2426','psyc2301','psyc3303','psyc3307','soci1301','soci1306','soci2303','univ0010','univ0200','univ0204','univ0301','univ0314','univ0324','univ0332','univ0342',)\n",
    "\n",
    "REFRESHED = []\n",
    "REFRESH = union(\n",
    "    # 'flags',\n",
    "    # 'admissions',\n",
    "    # 'registrations',\n",
    "    # 'students',\n",
    "    'imputed',\n",
    "    'learners',\n",
    "    'predictions',\n",
    "    'enrollments',\n",
    "    'enrollmentsall',\n",
    "    'studentsall',\n",
    "    'predictionsall',\n",
    "    'proba',\n",
    "    'forecasts',\n",
    ")\n",
    "\n",
    "kwargs = dict(features=features, aggregates=aggregates, crse_codes=crse_codes, subpops='styp_desc', start=2022,\n",
    "    # date='2025-10-30',\n",
    "    flaml=dict(\n",
    "        time_budget=60,\n",
    "    ),)\n",
    "# kwargs |= dict(crse_codes=['_headcnt','_proba'], aggregates='camp_desc'}  #quick for testing\n",
    "if LAG > 0: #retention\n",
    "    kwargs |= dict(crse_codes='_proba', aggregates=[])  #quick for testing\n",
    "self = AMP(**kwargs)\n",
    "# self.get_flagsday() # GA's should not have permissions to run this because it sees pii\n",
    "self.get_proba()\n",
    "# self.get_reports()   # may hit memory limits running get_flagsyear - just restart kernel and try again\n",
    "\n",
    "\n",
    "def run_viz():\n",
    "    P = self.get_proba().query(f'cohort_term != @self.term_desc & _tot_sch > 0')\n",
    "    viz = {\n",
    "        'ROC': lambda df: RocCurveDisplay.from_predictions(df['actual'], df['prediction'], ax=ax, name=df.name),\n",
    "        'Calibration': lambda df: CalibrationDisplay.from_predictions(df['actual'], df['prediction'], ax=ax, name=df.name, n_bins=10)#, strategy='quantile'),\n",
    "    }\n",
    "    with no_warn():\n",
    "        sns.displot(data=P, x='prediction', hue='actual', kind='kde', row='cohort_term', col='model_term', common_norm=False)\n",
    "        for nm, fcn in viz.items():\n",
    "            for cohort_term, B in P.groupmy('cohort_term', sort=True):\n",
    "                fig, ax = plt.subplots()\n",
    "                B.groupmy('model_term', sort=True).apply(fcn)\n",
    "                ax.plot([0, 1], [0, 1], 'k--')\n",
    "                ax.set_title(f'{nm}: {cohort_term} cohort {LAG} term retention')\n",
    "                plt.show()"
   ]
  },
  {
   "cell_type": "code",
   "execution_count": 0,
   "metadata": {
    "application/vnd.databricks.v1+cell": {
     "cellMetadata": {
      "byteLimit": 2048000,
      "rowLimit": 10000
     },
     "inputWidgets": {},
     "nuid": "6876a5b3-fc26-4373-905b-be886fe9dd65",
     "showTitle": false,
     "tableResultSettingsMap": {},
     "title": ""
    }
   },
   "outputs": [],
   "source": [
    "#train all\n",
    "run_viz()"
   ]
  },
  {
   "cell_type": "code",
   "execution_count": 0,
   "metadata": {
    "application/vnd.databricks.v1+cell": {
     "cellMetadata": {
      "byteLimit": 2048000,
      "rowLimit": 10000
     },
     "inputWidgets": {},
     "nuid": "463e8d88-62b0-4212-8622-5221b8a0644b",
     "showTitle": false,
     "tableResultSettingsMap": {},
     "title": ""
    }
   },
   "outputs": [],
   "source": [
    "#train tot_sch > 0\n",
    "run_viz()"
   ]
  },
  {
   "cell_type": "code",
   "execution_count": 0,
   "metadata": {
    "application/vnd.databricks.v1+cell": {
     "cellMetadata": {
      "byteLimit": 2048000,
      "rowLimit": 10000
     },
     "inputWidgets": {},
     "nuid": "44c38130-0b37-4613-94d3-d92c1cdb992f",
     "showTitle": false,
     "tableResultSettingsMap": {},
     "title": ""
    }
   },
   "outputs": [],
   "source": [
    "P = self.get_proba().query(f'cohort_term != @self.term_desc & _tot_sch > 0')\n",
    "viz = {\n",
    "    'ROC': lambda df: RocCurveDisplay.from_predictions(df['actual'], df['prediction'], ax=ax, name=df.name),\n",
    "    # 'Calibration': lambda df: CalibrationDisplay.from_predictions(df['actual'], df['prediction'], ax=ax, name=df.name, n_bins=10)#, strategy='quantile'),\n",
    "}\n",
    "with no_warn():\n",
    "    sns.displot(data=P, x='prediction', hue='actual', kind='kde', row='cohort_term', col='model_term', common_norm=False)\n",
    "    for nm, fcn in viz.items():\n",
    "        for cohort_term, B in P.groupmy('cohort_term', sort=True):\n",
    "            fig, ax = plt.subplots()\n",
    "            B.groupmy('model_term', sort=True).apply(fcn)\n",
    "            ax.plot([0, 1], [0, 1], 'k--')\n",
    "            ax.set_title(f'{nm}: {cohort_term} cohort {LAG} term retention')\n",
    "            plt.show()"
   ]
  }
 ],
 "metadata": {
  "application/vnd.databricks.v1+notebook": {
   "computePreferences": {
    "hardware": {
     "accelerator": null,
     "gpuPoolId": null,
     "memory": null
    }
   },
   "dashboards": [],
   "environmentMetadata": {
    "base_environment": "",
    "dependencies": [
     "ipython-autotime==0.3.2",
     "codetiming==1.4.0",
     "openpyxl==3.1.5",
     "numpy==1.26.4",
     "pandas==2.3.1",
     "geopandas==1.1.1",
     "pgeocode==0.5.0",
     "scikit-learn==1.7.0",
     "miceforest==6.0.3",
     "flaml[automl]==2.3.5"
    ],
    "environment_version": "2"
   },
   "inputWidgetPreferences": null,
   "language": "python",
   "notebookMetadata": {
    "mostRecentlyExecutedCommandWithImplicitDF": {
     "commandId": 5267979755454599,
     "dataframes": [
      "_sqldf"
     ]
    },
    "pythonIndentUnit": 4
   },
   "notebookName": "main",
   "widgets": {}
  },
  "language_info": {
   "name": "python"
  }
 },
 "nbformat": 4,
 "nbformat_minor": 0
}
