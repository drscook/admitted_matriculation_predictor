{
 "cells": [
  {
   "cell_type": "code",
   "execution_count": 0,
   "metadata": {
    "application/vnd.databricks.v1+cell": {
     "cellMetadata": {
      "byteLimit": 2048000,
      "rowLimit": 10000
     },
     "inputWidgets": {},
     "nuid": "059c04fb-0d2a-4c11-88e1-2e15ea88010b",
     "showTitle": false,
     "tableResultSettingsMap": {},
     "title": ""
    }
   },
   "outputs": [],
   "source": [
    "%reload_ext autotime\n",
    "FORECAST_TERM_CODE = 202508\n",
    "LAG = 1\n",
    "exec(open('./amp.py').read())\n",
    "\n",
    "aggregates = [\n",
    "    'styp_desc',\n",
    "    'camp_desc',\n",
    "    'coll_desc',\n",
    "    'dept_desc',\n",
    "    'majr_desc',\n",
    "    'hs_qrtl',\n",
    "    'tsi_math',\n",
    "    'tsi_reading',\n",
    "    'tsi_writing',\n",
    "    # 'gender',\n",
    "    # *races,\n",
    "    # 'international',\n",
    "    'resd_desc',\n",
    "    'oriented',\n",
    "    'waiver',\n",
    "    'lgcy',\n",
    "]\n",
    "\n",
    "features = {\n",
    "    'act_equiv':pd.NA,\n",
    "    'age':pd.NA,\n",
    "    'camp_desc':'stephenville',\n",
    "    'drivetime':pd.NA,\n",
    "    'eager':pd.NA,\n",
    "    'fafsa': False,\n",
    "    'finaid': False,\n",
    "    'gap_score':0,\n",
    "    'gender':pd.NA,\n",
    "    'hs_qrtl':pd.NA,\n",
    "    'international':False,\n",
    "    'lgcy':False,\n",
    "    'oriented':False,\n",
    "    **{r: False for r in races},\n",
    "    'schlship':False,\n",
    "    'ssb':False,\n",
    "    'tsi_math':False,\n",
    "    'tsi_reading':False,\n",
    "    'tsi_writing':False,\n",
    "    'verified':False,\n",
    "    'waiver':False,\n",
    "}\n",
    "\n",
    "crse_codes = [\n",
    "    '_headcnt',\n",
    "    '_proba',\n",
    "    'agec2317','ansc1119','ansc1319','anth2302','anth2351','arts1301','arts1303','arts1304','arts3331',\n",
    "    'biol1305','biol1406','biol1407','biol2401','biol2402','busi1301','busi1307','chem1111','chem1112',\n",
    "    'chem1302','chem1311','chem1312','chem1407','chem1409','cnst1301','comm1311','comm1315','comm2302',\n",
    "    'crij1301','dram1310','dram2361','easc2310','econ1301','econ2301','educ1301','engl1301','engl1302',\n",
    "    'engl2307','engl2320','engl2321','engl2326','engl2340','engl2350','engl2360','engl2362','engl2364',\n",
    "    'engl2366','engl2368','engr1211','engr2303','envs1302','fina1360','geog1303','geog1320','geog1451',\n",
    "    'geog2301','geol1403','geol1404','geol1407','geol1408','govt2305','govt2306','hist1301','hist1302',\n",
    "    'hist2321','hist2322','huma1315','kine1301','kine1338','kine2315','math1314','math1316','math1324',\n",
    "    'math1325','math1332','math1342','math1352','math2412','math2413','musi1303','musi1310','musi1311',\n",
    "    'musi2350','musi3325','phil1301','phil1304','phil2303','phil3301','phys1302','phys1401','phys1402',\n",
    "    'phys1403','phys1411','phys2425','phys2426','psyc2301','psyc3303','psyc3307','soci1301','soci1306',\n",
    "    'soci2303','univ0010','univ0200','univ0204','univ0301','univ0314','univ0324','univ0332','univ0342',\n",
    "]\n",
    "\n",
    "REFRESHED = []\n",
    "REFRESH = [\n",
    "    # 'flags',\n",
    "    # 'admissions',\n",
    "    # 'registrations',\n",
    "    # 'students',\n",
    "    # 'imputed',\n",
    "    # 'learners',\n",
    "    # 'predictions',\n",
    "    # 'enrollments',\n",
    "    # 'enrollmentsall',\n",
    "    # 'studentsall',\n",
    "    # 'predictionsall',\n",
    "    # 'proba',\n",
    "    # 'forecasts',\n",
    "]\n",
    "\n",
    "kwargs = {'features': features, 'aggregates':aggregates, 'crse_codes':crse_codes, 'start':2022,\n",
    "    # 'date': '2025-08-13',\n",
    "    'flaml':{\n",
    "        'time_budget': 60,\n",
    "    }}\n",
    "# kwargs |= {'crse_codes':['_headcnt','_probb'], 'aggregates':['camp_desc']}  #quick for testing\n",
    "if LAG == 1:\n",
    "    kwargs |= {'crse_codes':'_proba', 'aggregates':[]}  #retention\n",
    "self = AMP(**kwargs)\n",
    "# self.setup()\n",
    "# self.get_flagsday() # GA's should not have permissions to run this because it sees pii\n",
    "self.get_proba()\n",
    "# self.get_forecasts()\n",
    "# self.get_reports() # may hit memory limits running get_flagsyear - just restart kernel and try again"
   ]
  },
  {
   "cell_type": "code",
   "execution_count": 0,
   "metadata": {
    "application/vnd.databricks.v1+cell": {
     "cellMetadata": {
      "byteLimit": 2048000,
      "rowLimit": 10000
     },
     "inputWidgets": {},
     "nuid": "6d678e48-25fb-4e6f-9f47-bf4e8558da9c",
     "showTitle": false,
     "tableResultSettingsMap": {},
     "title": ""
    }
   },
   "outputs": [],
   "source": [
    "A['prediction_term'].unique()"
   ]
  },
  {
   "cell_type": "code",
   "execution_count": 0,
   "metadata": {
    "application/vnd.databricks.v1+cell": {
     "cellMetadata": {
      "byteLimit": 2048000,
      "rowLimit": 10000
     },
     "inputWidgets": {},
     "nuid": "7a6d18df-c13c-4e7d-9000-b15564a6f001",
     "showTitle": false,
     "tableResultSettingsMap": {},
     "title": ""
    }
   },
   "outputs": [],
   "source": [
    "from sklearn.metrics import log_loss\n",
    "from sklearn.metrics import RocCurveDisplay\n",
    "# def log_loss(y_true, y_pred):\n",
    "#     return -1 * (y_true * np.log(1-y_pred) + (1-y_true) * np.log(1-y_pred))\n",
    "A = self.get_proba()#.query()\n",
    "# t = P['stable']\n",
    "# p = P['prediction']\n",
    "# P['log_loss'] = -1 * (t*np.log(p) + (1-t)*np.log(1-p))\n",
    "# P['log_loss'] = log_loss(P['stable'], P['prediction'])\n",
    "# P.groupmy(union(self.subpops))['log_loss'].mean()\n",
    "\n",
    "import matplotlib.pyplot as plt\n",
    "\n",
    "\n",
    "for pred_term, B in A.groupmy('prediction_term', sort=True):\n",
    "    fig, ax = plt.subplots()\n",
    "    for modl_term, C in B.groupmy('model_term', sort=True):\n",
    "        RocCurveDisplay.from_predictions(C['stable'], C['prediction'], ax=ax, name=modl_term)\n",
    "    ax.plot([0, 1], [0, 1], 'k--', label='Random Classifier')\n",
    "    ax.set_title(pred_term)\n",
    "    plt.show()\n",
    "\n",
    "# for k, v in P.groupmy(['prediction_term', 'model_term']):\n",
    "#     print(log_loss(P['stable'], P['prediction']))\n",
    "#     RocCurveDisplay.from_predictions(v['stable'], v['prediction'], ax=ax, name=k)#.plot(ax=ax, label=k)\n",
    "# ax.plot([0, 1], [0, 1], 'k--', label='Random Classifier')\n",
    "# plt.show()\n",
    "\n",
    "# log_loss(P['stable'], P['prediction'])\n"
   ]
  },
  {
   "cell_type": "code",
   "execution_count": 0,
   "metadata": {
    "application/vnd.databricks.v1+cell": {
     "cellMetadata": {
      "byteLimit": 2048000,
      "rowLimit": 10000
     },
     "inputWidgets": {},
     "nuid": "3e98fd4c-b520-414a-8334-6d987bbccedf",
     "showTitle": false,
     "tableResultSettingsMap": {},
     "title": ""
    }
   },
   "outputs": [],
   "source": [
    "dct = {join(s): df for s, df in self.get_spriden().merge(self.get_proba().query(f\"prediction_term==@self.term_desc & model_term==model_term.max()\"), how='right').groupmy(self.subpops)}"
   ]
  },
  {
   "cell_type": "code",
   "execution_count": 0,
   "metadata": {
    "application/vnd.databricks.v1+cell": {
     "cellMetadata": {
      "byteLimit": 2048000,
      "rowLimit": 10000
     },
     "inputWidgets": {},
     "nuid": "03b5f054-736a-4d2d-b160-016e0391fc92",
     "showTitle": false,
     "tableResultSettingsMap": {},
     "title": ""
    }
   },
   "outputs": [],
   "source": [
    "dct['new first time']"
   ]
  },
  {
   "cell_type": "code",
   "execution_count": 0,
   "metadata": {
    "application/vnd.databricks.v1+cell": {
     "cellMetadata": {
      "byteLimit": 2048000,
      "rowLimit": 10000
     },
     "inputWidgets": {},
     "nuid": "ee6696ee-b0bd-45f3-8833-8f8be5da7660",
     "showTitle": false,
     "tableResultSettingsMap": {},
     "title": ""
    }
   },
   "outputs": [],
   "source": [
    "A = self.get_spriden().merge(self.get_proba(), how='right')\n",
    "B = A.query(f\"prediction_term==@self.term_desc & model_term==model_term.max()\")#.loc[:,:'prediction'].query(\"pidm==1000)"
   ]
  },
  {
   "cell_type": "code",
   "execution_count": 0,
   "metadata": {
    "application/vnd.databricks.v1+cell": {
     "cellMetadata": {
      "byteLimit": 2048000,
      "rowLimit": 10000
     },
     "inputWidgets": {},
     "nuid": "8604a2f0-e46f-4c19-be93-787365918172",
     "showTitle": false,
     "tableResultSettingsMap": {},
     "title": ""
    }
   },
   "outputs": [],
   "source": [
    "A = run_qry(f\"select * except (crse_code, cv_score, mlt) {self.subqry} where crse_code='_proba' limit 10\")\n",
    "# move(A, 'model_term', 'prediction_term')\n",
    "A.move('model_term', 'prediction_term').move('stable', 'pidm')\n",
    "A"
   ]
  },
  {
   "cell_type": "code",
   "execution_count": 0,
   "metadata": {
    "application/vnd.databricks.v1+cell": {
     "cellMetadata": {
      "byteLimit": 2048000,
      "rowLimit": 10000
     },
     "inputWidgets": {},
     "nuid": "0f54f9ce-367c-45bf-8d99-c9c1ba792a65",
     "showTitle": false,
     "tableResultSettingsMap": {},
     "title": ""
    }
   },
   "outputs": [],
   "source": [
    "dct = {join(s): df for s, df in self.get_spriden().merge(self.get_proba(), how='right').groupmy(self.subpops)}"
   ]
  },
  {
   "cell_type": "code",
   "execution_count": 0,
   "metadata": {
    "application/vnd.databricks.v1+cell": {
     "cellMetadata": {
      "byteLimit": 2048000,
      "rowLimit": 10000
     },
     "inputWidgets": {},
     "nuid": "3bcd611e-f9a0-4455-9d7b-2ad8640d82b9",
     "showTitle": false,
     "tableResultSettingsMap": {},
     "title": ""
    }
   },
   "outputs": [],
   "source": [
    "self.setup()"
   ]
  },
  {
   "cell_type": "code",
   "execution_count": 0,
   "metadata": {
    "application/vnd.databricks.v1+cell": {
     "cellMetadata": {
      "byteLimit": 2048000,
      "rowLimit": 10000
     },
     "inputWidgets": {},
     "nuid": "35bef541-94a4-486a-8c63-570a54908d26",
     "showTitle": false,
     "tableResultSettingsMap": {},
     "title": ""
    }
   },
   "outputs": [],
   "source": [
    "self.subqry"
   ]
  },
  {
   "cell_type": "code",
   "execution_count": 0,
   "metadata": {
    "application/vnd.databricks.v1+cell": {
     "cellMetadata": {},
     "inputWidgets": {},
     "nuid": "2c245a1a-de47-416e-8c4b-cf3d44032b43",
     "showTitle": false,
     "tableResultSettingsMap": {},
     "title": ""
    }
   },
   "outputs": [],
   "source": []
  },
  {
   "cell_type": "code",
   "execution_count": 0,
   "metadata": {
    "application/vnd.databricks.v1+cell": {
     "cellMetadata": {
      "byteLimit": 2048000,
      "rowLimit": 10000
     },
     "inputWidgets": {},
     "nuid": "19825508-ab94-4f13-b3e3-70f2c35751a0",
     "showTitle": false,
     "tableResultSettingsMap": {},
     "title": ""
    }
   },
   "outputs": [],
   "source": [
    "union('pidm', self.subpops, 'prediction_term', 'model_term',' prediction', 'stable')"
   ]
  },
  {
   "cell_type": "code",
   "execution_count": 0,
   "metadata": {
    "application/vnd.databricks.v1+cell": {
     "cellMetadata": {
      "byteLimit": 2048000,
      "rowLimit": 10000
     },
     "inputWidgets": {},
     "nuid": "3078b678-2d2b-4368-a46c-bb4a8da63d68",
     "showTitle": false,
     "tableResultSettingsMap": {},
     "title": ""
    }
   },
   "outputs": [],
   "source": [
    "def move(self, src, dst, offset=1):\n",
    "    self.insert(self.columns.get_loc(dst) + offset, src, self.pop(src))\n",
    "    return self\n",
    "A = run_qry(f\"select * except (crse_code, cv_score, mlt) {self.subqry} where crse_code='_proba' limit 10\")\n",
    "move(A, 'model_term', 'prediction_term')"
   ]
  },
  {
   "cell_type": "code",
   "execution_count": 0,
   "metadata": {
    "application/vnd.databricks.v1+cell": {
     "cellMetadata": {
      "byteLimit": 2048000,
      "rowLimit": 10000
     },
     "inputWidgets": {},
     "nuid": "fd88f508-f5e4-4c39-967d-cfb4b7bceb4a",
     "showTitle": false,
     "tableResultSettingsMap": {},
     "title": ""
    }
   },
   "outputs": [],
   "source": [
    "A = run_qry(f\"select * except (crse_code, cv_score, mlt) {self.subqry} where crse_code='_proba' limit 10\")\n",
    "A.insert(A.columns.get_loc('prediction_term') + 1, 'model_term', A.pop('model_term'))\n",
    "A"
   ]
  },
  {
   "cell_type": "code",
   "execution_count": 0,
   "metadata": {
    "application/vnd.databricks.v1+cell": {
     "cellMetadata": {
      "byteLimit": 2048000,
      "rowLimit": 10000
     },
     "inputWidgets": {},
     "nuid": "06535ac3-5c2e-46b8-b79c-052133b661f8",
     "showTitle": false,
     "tableResultSettingsMap": {},
     "title": ""
    }
   },
   "outputs": [],
   "source": [
    "A"
   ]
  },
  {
   "cell_type": "code",
   "execution_count": 0,
   "metadata": {
    "application/vnd.databricks.v1+cell": {
     "cellMetadata": {
      "byteLimit": 2048000,
      "rowLimit": 10000
     },
     "inputWidgets": {},
     "nuid": "cfcaf286-71cb-40dd-8ba9-d3131685b989",
     "showTitle": false,
     "tableResultSettingsMap": {},
     "title": ""
    }
   },
   "outputs": [],
   "source": [
    "# run_qry(f\"select * except (crse_code, cv_score, mlt) {self.subqry} where crse_code='_proba' limit 10\")\n",
    "run_qry(f\"select pidm, * except (crse_code, cv_score, mlt) {self.subqry} where crse_code='_proba' limit 10\")"
   ]
  },
  {
   "cell_type": "code",
   "execution_count": 0,
   "metadata": {
    "application/vnd.databricks.v1+cell": {
     "cellMetadata": {
      "byteLimit": 2048000,
      "rowLimit": 10000
     },
     "inputWidgets": {},
     "nuid": "46b0a1bb-03bc-4984-b818-8a6dd830add2",
     "showTitle": false,
     "tableResultSettingsMap": {},
     "title": ""
    }
   },
   "outputs": [],
   "source": [
    "self.get_proba()"
   ]
  },
  {
   "cell_type": "code",
   "execution_count": 0,
   "metadata": {
    "application/vnd.databricks.v1+cell": {
     "cellMetadata": {
      "byteLimit": 2048000,
      "rowLimit": 10000
     },
     "inputWidgets": {},
     "nuid": "1437406d-9f33-4290-994f-1bb4d8e427a9",
     "showTitle": false,
     "tableResultSettingsMap": {},
     "title": ""
    }
   },
   "outputs": [],
   "source": []
  },
  {
   "cell_type": "code",
   "execution_count": 0,
   "metadata": {
    "application/vnd.databricks.v1+cell": {
     "cellMetadata": {
      "byteLimit": 2048000,
      "rowLimit": 10000
     },
     "inputWidgets": {},
     "nuid": "b1d7aa9e-7d0b-4bf3-82de-b8639407cb43",
     "showTitle": false,
     "tableResultSettingsMap": {},
     "title": ""
    }
   },
   "outputs": [],
   "source": [
    "dct['new first time'].\n",
    "C = self.run_predictions('_proba').loc[('_proba',self.term_code,self.term_code-100),'prediction']"
   ]
  },
  {
   "cell_type": "code",
   "execution_count": 0,
   "metadata": {
    "application/vnd.databricks.v1+cell": {
     "cellMetadata": {
      "byteLimit": 2048000,
      "rowLimit": 10000
     },
     "inputWidgets": {},
     "nuid": "50a6dcde-ac24-4d24-a357-9f34ffc001db",
     "showTitle": false,
     "tableResultSettingsMap": {},
     "title": ""
    }
   },
   "outputs": [],
   "source": [
    "rpts = {\n",
    "    # 'summary':lambda df: df.query(f\"prediction_term==@self.term_desc\").loc[:,:'prediction'],\n",
    "    # 'details':lambda df: df,\n",
    "}\n",
    "rpts = {rpt: {agg: fcn(df).round().prep() for agg, df in self.get_forecasts().items()} for rpt, fcn in rpts.items()}\n",
    "rpts['em'] = {s: df for s, df in self.get_spriden().merge(self.get_proba(), how='right').groupmy(self.subpops)}\n",
    "\n",
    "def format_xlsx(sheet):\n",
    "    from openpyxl.styles import Alignment\n",
    "    sheet.auto_filter.ref = sheet.dimensions\n",
    "    for cell in sheet[1]:\n",
    "        cell.alignment = Alignment(horizontal=\"left\")\n",
    "    for column in sheet.columns:\n",
    "        width = 1+max(len(str(cell.value))+3*(i==0) for i, cell in enumerate(column))\n",
    "        sheet.column_dimensions[column[0].column_letter].width = width\n",
    "    sheet.freeze_panes = \"A2\"\n",
    "\n",
    "def write_xlsx(rpt, sheets):\n",
    "    nm, dst = self.get_dst(f'reports/{self.date}/{rpt}', suffix='.xlsx')\n",
    "    reset(dst)\n",
    "    print(f'creating {dst}', end=': ')\n",
    "    with codetiming.Timer():\n",
    "        src = \"./report.xlsx\"\n",
    "        # sheets = {'instructions':instructions} | sheets\n",
    "        with pd.ExcelWriter(src, mode=\"w\", engine=\"openpyxl\") as writer:\n",
    "            for sheet_name, df in sheets.items():\n",
    "                df.to_excel(writer, sheet_name=join(sheet_name), index=False)\n",
    "                format_xlsx(writer.sheets[sheet_name])\n",
    "        shutil.copy(src, dst)\n",
    "        rm(src)\n",
    "    print(divider)\n",
    "\n",
    "for rpt, sheets in rpts.items():\n",
    "    write_xlsx(rpt, sheets)"
   ]
  },
  {
   "cell_type": "code",
   "execution_count": 0,
   "metadata": {
    "application/vnd.databricks.v1+cell": {
     "cellMetadata": {
      "byteLimit": 2048000,
      "rowLimit": 10000
     },
     "inputWidgets": {},
     "nuid": "e0be40ca-0600-46ef-b3e5-b0840919016c",
     "showTitle": false,
     "tableResultSettingsMap": {},
     "title": ""
    }
   },
   "outputs": [],
   "source": [
    "[join(k, ', ') for k in sheets.keys()]"
   ]
  },
  {
   "cell_type": "code",
   "execution_count": 0,
   "metadata": {
    "application/vnd.databricks.v1+cell": {
     "cellMetadata": {
      "byteLimit": 2048000,
      "rowLimit": 10000
     },
     "inputWidgets": {},
     "nuid": "e977182d-aff5-4e48-8877-904ae51b93ea",
     "showTitle": false,
     "tableResultSettingsMap": {},
     "title": ""
    }
   },
   "outputs": [],
   "source": [
    "rpts['em'][('new first time',)]"
   ]
  }
 ],
 "metadata": {
  "application/vnd.databricks.v1+notebook": {
   "computePreferences": {
    "hardware": {
     "accelerator": null,
     "gpuPoolId": null,
     "memory": null
    }
   },
   "dashboards": [],
   "environmentMetadata": {
    "base_environment": "",
    "dependencies": [
     "ipython-autotime==0.3.2",
     "codetiming==1.4.0",
     "openpyxl==3.1.5",
     "numpy==1.26.4",
     "pandas==2.3.1",
     "geopandas==1.1.1",
     "pgeocode==0.5.0",
     "scikit-learn==1.7.0",
     "miceforest==6.0.3",
     "flaml[automl]==2.3.5"
    ],
    "environment_version": "2"
   },
   "inputWidgetPreferences": null,
   "language": "python",
   "notebookMetadata": {
    "mostRecentlyExecutedCommandWithImplicitDF": {
     "commandId": 5267979755454599,
     "dataframes": [
      "_sqldf"
     ]
    },
    "pythonIndentUnit": 4
   },
   "notebookName": "(Clone) main",
   "widgets": {}
  },
  "language_info": {
   "name": "python"
  }
 },
 "nbformat": 4,
 "nbformat_minor": 0
}
