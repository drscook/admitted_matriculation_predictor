{
 "cells": [
  {
   "cell_type": "code",
   "execution_count": 0,
   "metadata": {
    "application/vnd.databricks.v1+cell": {
     "cellMetadata": {
      "byteLimit": 2048000,
      "rowLimit": 10000
     },
     "inputWidgets": {},
     "nuid": "fe526942-a872-4dea-a951-ac471e91f05e",
     "showTitle": false,
     "tableResultSettingsMap": {},
     "title": ""
    }
   },
   "outputs": [],
   "source": [
    "1+1"
   ]
  },
  {
   "cell_type": "code",
   "execution_count": 0,
   "metadata": {
    "application/vnd.databricks.v1+cell": {
     "cellMetadata": {
      "byteLimit": 2048000,
      "rowLimit": 10000
     },
     "inputWidgets": {},
     "nuid": "c036400f-6a8d-47c8-895e-e7bf18887469",
     "showTitle": false,
     "tableResultSettingsMap": {},
     "title": ""
    }
   },
   "outputs": [],
   "source": [
    "%reload_ext autotime\n",
    "FORECAST_TERM_CODE = 202508\n",
    "exec(open('./amp.py').read())\n",
    "REFRESHED = []\n",
    "REFRESH = [\n",
    "    # 'terminfo',\n",
    "    # 'zips',\n",
    "    # 'flagsyear',\n",
    "    # 'flags',\n",
    "    # 'admissions',\n",
    "    # 'students',\n",
    "    # 'registrations',\n",
    "    # 'imputed',\n",
    "    # 'learners',\n",
    "    'predictions',\n",
    "]\n",
    "\n",
    "self = AMP(\n",
    "    start=2024,\n",
    "    date='2025-06-12',\n",
    "    flaml = {\n",
    "        'time_budget': 10,\n",
    "    },\n",
    "    aggregates = [\n",
    "        'styp_desc',\n",
    "        'camp_desc',\n",
    "    ],\n",
    "    features = {\n",
    "        'act_equiv':pd.NA,\n",
    "        'age':pd.NA,\n",
    "        'camp_desc':'stephenville',\n",
    "        'drivetime':pd.NA,\n",
    "        'eager':pd.NA,\n",
    "        'fafsa': False,\n",
    "        'finaid': False,\n",
    "        'gap_score':0,\n",
    "        'gender':pd.NA,\n",
    "        'hs_qrtl':pd.NA,\n",
    "        'international':False,\n",
    "        'lgcy':False,\n",
    "        'oriented':False,\n",
    "        **{r: False for r in races},\n",
    "        'schlship':False,\n",
    "        'ssb':False,\n",
    "        'tsi_math':False,\n",
    "        'tsi_reading':False,\n",
    "        'tsi_writing':False,\n",
    "        'verified':False,\n",
    "        'waiver':False,\n",
    "    },\n",
    ")\n",
    "\n",
    "self.get_flagsday()\n",
    "# pred = self.get_predictions()\n",
    "# pred\n",
    "# self.get_terminfo()"
   ]
  },
  {
   "cell_type": "code",
   "execution_count": 0,
   "metadata": {
    "application/vnd.databricks.v1+cell": {
     "cellMetadata": {
      "byteLimit": 2048000,
      "rowLimit": 10000
     },
     "inputWidgets": {},
     "nuid": "16c41370-ce3b-4064-bae8-9e0dafef5785",
     "showTitle": false,
     "tableResultSettingsMap": {},
     "title": ""
    }
   },
   "outputs": [],
   "source": []
  },
  {
   "cell_type": "code",
   "execution_count": 0,
   "metadata": {
    "application/vnd.databricks.v1+cell": {
     "cellMetadata": {
      "byteLimit": 2048000,
      "rowLimit": 10000
     },
     "inputWidgets": {},
     "nuid": "97e8cf12-1d30-4932-943c-d0495fc8b375",
     "showTitle": false,
     "tableResultSettingsMap": {},
     "title": ""
    }
   },
   "outputs": [],
   "source": [
    "q = spark.sql(qry)\n",
    "q.toPandas?"
   ]
  },
  {
   "cell_type": "code",
   "execution_count": 0,
   "metadata": {
    "application/vnd.databricks.v1+cell": {
     "cellMetadata": {
      "byteLimit": 2048000,
      "rowLimit": 10000
     },
     "inputWidgets": {},
     "nuid": "93692c44-b8d9-47b9-910d-6b6fc221f9a9",
     "showTitle": false,
     "tableResultSettingsMap": {},
     "title": ""
    }
   },
   "outputs": [],
   "source": [
    "def run_qry(qry, show=False, sample='10 rows', seed=42):\n",
    "    \"\"\"run qry and return dataframe\"\"\"\n",
    "    L = qry.split(' ')\n",
    "    if len(L) == 1:\n",
    "        qry = f'select * from {L[0]}'\n",
    "        if sample is not None:\n",
    "            qry += f' tablesample ({sample}) repeatable ({seed})'\n",
    "    if show:\n",
    "        print(qry)\n",
    "    return pd.DataFrame(spark.sql(qry).toPandas()).prep()\n",
    "\n",
    "qry = f\"\"\"\n",
    "select\n",
    "    stvterm_code as term_code\n",
    "    ,replace(stvterm_desc, ' ', '') as term_desc\n",
    "    ,stvterm_start_date as start_date\n",
    "    ,stvterm_end_date as end_date\n",
    "    ,stvterm_fa_proc_yr as fa_proc_yr\n",
    "    ,stvterm_housing_start_date as housing_start_date\n",
    "    ,stvterm_housing_end_date as housing_end_date\n",
    "    ,sobptrm_census_date as census_date\n",
    "from\n",
    "    {catalog}saturnstvterm as A\n",
    "inner join\n",
    "    {catalog}saturnsobptrm as B\n",
    "on\n",
    "    stvterm_code = sobptrm_term_code\n",
    "where\n",
    "    sobptrm_ptrm_code='1'\n",
    "\"\"\"\n",
    "\n",
    "df = run_qry(qry)\n",
    "fn = stable/'temp.parquet'\n",
    "df.dtypes\n",
    "# pd.DataFrame(df).to_parquet(fn)\n",
    "df.to_parquet(fn)"
   ]
  }
 ],
 "metadata": {
  "application/vnd.databricks.v1+notebook": {
   "computePreferences": {
    "hardware": {
     "accelerator": null,
     "gpuPoolId": null,
     "memory": null
    }
   },
   "dashboards": [],
   "environmentMetadata": {
    "base_environment": "",
    "dependencies": [
     "ipython-autotime==0.3.2",
     "codetiming==1.4.0",
     "openpyxl==3.1.5",
     "numpy==1.26.4",
     "pandas==2.3.1",
     "geopandas==1.1.1",
     "pgeocode==0.5.0",
     "scikit-learn==1.7.0",
     "miceforest==6.0.3",
     "flaml[automl]==2.3.5"
    ],
    "environment_version": "2"
   },
   "inputWidgetPreferences": null,
   "language": "python",
   "notebookMetadata": {
    "pythonIndentUnit": 4
   },
   "notebookName": "main",
   "widgets": {}
  },
  "language_info": {
   "name": "python"
  }
 },
 "nbformat": 4,
 "nbformat_minor": 0
}
